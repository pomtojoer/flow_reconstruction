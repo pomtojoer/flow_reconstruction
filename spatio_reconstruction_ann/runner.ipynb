{
 "cells": [
  {
   "cell_type": "code",
   "execution_count": null,
   "id": "vertical-container",
   "metadata": {},
   "outputs": [],
   "source": [
    "%load_ext autoreload"
   ]
  },
  {
   "cell_type": "code",
   "execution_count": null,
   "id": "national-princess",
   "metadata": {},
   "outputs": [],
   "source": [
    "%autoreload 2\n",
    "from data_scaling import experiments as exp1\n",
    "from sensor_types import experiments as exp2\n",
    "from sensor_types_expanded_dataset import experiments as exp3\n",
    "# from resolution_reduction_expanded_dataset import experiments as exp4\n",
    "# from model_comparison import experiments as exp5"
   ]
  },
  {
   "cell_type": "markdown",
   "id": "geological-shooting",
   "metadata": {},
   "source": [
    "# Data Scaling\n",
    "---"
   ]
  },
  {
   "cell_type": "code",
   "execution_count": null,
   "id": "insured-footwear",
   "metadata": {},
   "outputs": [],
   "source": [
    "# Mean centring\n",
    "exp1.experiment_1(train_model=True)"
   ]
  },
  {
   "cell_type": "code",
   "execution_count": null,
   "id": "frank-nerve",
   "metadata": {},
   "outputs": [],
   "source": [
    "# Standardisation\n",
    "exp1.experiment_2(train_model=True)"
   ]
  },
  {
   "cell_type": "code",
   "execution_count": null,
   "id": "guided-deposit",
   "metadata": {},
   "outputs": [],
   "source": [
    "# Normalisation\n",
    "exp1.experiment_3(train_model=True)"
   ]
  },
  {
   "cell_type": "code",
   "execution_count": null,
   "id": "amino-superintendent",
   "metadata": {},
   "outputs": [],
   "source": [
    "# Unscaled\n",
    "exp1.experiment_4(train_model=True)"
   ]
  },
  {
   "cell_type": "markdown",
   "id": "ideal-instrumentation",
   "metadata": {},
   "source": [
    "# Sensor placement\n",
    "---"
   ]
  },
  {
   "cell_type": "code",
   "execution_count": null,
   "id": "agricultural-begin",
   "metadata": {},
   "outputs": [],
   "source": [
    "# Wall, manual placement, 5\n",
    "exp2.experiment_1(train_model=True)"
   ]
  },
  {
   "cell_type": "code",
   "execution_count": null,
   "id": "level-panic",
   "metadata": {},
   "outputs": [],
   "source": [
    "# Wall, equispaced placement, 5\n",
    "exp2.experiment_2(train_model=True)"
   ]
  },
  {
   "cell_type": "code",
   "execution_count": null,
   "id": "altered-future",
   "metadata": {},
   "outputs": [],
   "source": [
    "# Line, spanwise, 5\n",
    "exp2.experiment_3(train_model=True)"
   ]
  },
  {
   "cell_type": "code",
   "execution_count": null,
   "id": "southeast-kelly",
   "metadata": {},
   "outputs": [],
   "source": [
    "# Line, spanwise, 5, offset\n",
    "exp2.experiment_4(train_model=True)"
   ]
  },
  {
   "cell_type": "code",
   "execution_count": null,
   "id": "manual-homeless",
   "metadata": {},
   "outputs": [],
   "source": [
    "# Line, spanwise, 5, offset, narrow\n",
    "exp2.experiment_5(train_model=True)"
   ]
  },
  {
   "cell_type": "code",
   "execution_count": null,
   "id": "important-valuation",
   "metadata": {},
   "outputs": [],
   "source": [
    "# Line, spanwise, 5, offset, wide\n",
    "exp2.experiment_6(train_model=True)"
   ]
  },
  {
   "cell_type": "code",
   "execution_count": null,
   "id": "possible-knight",
   "metadata": {},
   "outputs": [],
   "source": [
    "# Line, streamwise, 5\n",
    "exp2.experiment_7(train_model=True)"
   ]
  },
  {
   "cell_type": "code",
   "execution_count": null,
   "id": "declared-upset",
   "metadata": {},
   "outputs": [],
   "source": [
    "# Line, streamwise, 5, narrow\n",
    "exp2.experiment_8(train_model=True)"
   ]
  },
  {
   "cell_type": "code",
   "execution_count": null,
   "id": "unavailable-bridge",
   "metadata": {},
   "outputs": [],
   "source": [
    "# Line, streamwise, 5, wide\n",
    "exp2.experiment_9(train_model=True)"
   ]
  },
  {
   "cell_type": "code",
   "execution_count": null,
   "id": "driving-necklace",
   "metadata": {},
   "outputs": [],
   "source": [
    "# T, 5\n",
    "exp2.experiment_10(train_model=True)"
   ]
  },
  {
   "cell_type": "code",
   "execution_count": null,
   "id": "color-speech",
   "metadata": {},
   "outputs": [],
   "source": [
    "# T, 9, dense\n",
    "exp2.experiment_11(train_model=True)"
   ]
  },
  {
   "cell_type": "code",
   "execution_count": null,
   "id": "geographic-vehicle",
   "metadata": {},
   "outputs": [],
   "source": [
    "# T, 7, streamwise dense\n",
    "exp2.experiment_12(train_model=True)"
   ]
  },
  {
   "cell_type": "code",
   "execution_count": null,
   "id": "unlike-ground",
   "metadata": {},
   "outputs": [],
   "source": [
    "# T, 7, spanwise dense\n",
    "exp2.experiment_13(train_model=True)"
   ]
  },
  {
   "cell_type": "code",
   "execution_count": null,
   "id": "above-pacific",
   "metadata": {},
   "outputs": [],
   "source": [
    "# Patch, 3x3\n",
    "exp2.experiment_14(train_model=True)"
   ]
  },
  {
   "cell_type": "code",
   "execution_count": null,
   "id": "boxed-biography",
   "metadata": {},
   "outputs": [],
   "source": [
    "# Patch, 4x4\n",
    "exp2.experiment_15(train_model=True)"
   ]
  },
  {
   "cell_type": "code",
   "execution_count": null,
   "id": "together-conflict",
   "metadata": {},
   "outputs": [],
   "source": [
    "# Patch, 16x16\n",
    "exp2.experiment_16(train_model=True)"
   ]
  },
  {
   "cell_type": "code",
   "execution_count": null,
   "id": "thorough-fleece",
   "metadata": {},
   "outputs": [],
   "source": [
    "# Wall, equispaced placement, 15, dense\n",
    "exp2.experiment_17(train_model=True)"
   ]
  },
  {
   "cell_type": "code",
   "execution_count": null,
   "id": "perfect-obligation",
   "metadata": {},
   "outputs": [],
   "source": [
    "# Line, spanwise, 15, dense\n",
    "exp2.experiment_18(train_model=True)"
   ]
  },
  {
   "cell_type": "code",
   "execution_count": null,
   "id": "pregnant-developer",
   "metadata": {
    "scrolled": true
   },
   "outputs": [],
   "source": [
    "# Patch, full domain, 3x5\n",
    "exp2.experiment_19(train_model=True)"
   ]
  },
  {
   "cell_type": "markdown",
   "id": "arctic-frost",
   "metadata": {},
   "source": [
    "# Sensor Placement, Expanded Dataset\n",
    "---"
   ]
  },
  {
   "cell_type": "code",
   "execution_count": null,
   "id": "excessive-enemy",
   "metadata": {},
   "outputs": [],
   "source": [
    "# Wall, manual placement, 5\n",
    "exp3.experiment_1(train_model=True)"
   ]
  },
  {
   "cell_type": "code",
   "execution_count": null,
   "id": "interior-tribute",
   "metadata": {},
   "outputs": [],
   "source": [
    "# Wall, equispaced placement, 5\n",
    "exp3.experiment_2(train_model=True)"
   ]
  },
  {
   "cell_type": "code",
   "execution_count": null,
   "id": "determined-palace",
   "metadata": {},
   "outputs": [],
   "source": [
    "# Line, spanwise, 5\n",
    "exp3.experiment_3(train_model=True)"
   ]
  },
  {
   "cell_type": "code",
   "execution_count": null,
   "id": "engaging-design",
   "metadata": {},
   "outputs": [],
   "source": [
    "# Line, spanwise, 5, offset\n",
    "exp3.experiment_4(train_model=True)"
   ]
  },
  {
   "cell_type": "code",
   "execution_count": null,
   "id": "dominican-cigarette",
   "metadata": {},
   "outputs": [],
   "source": [
    "# Line, spanwise, 5, offset, narrow\n",
    "exp3.experiment_5(train_model=True)"
   ]
  },
  {
   "cell_type": "code",
   "execution_count": null,
   "id": "visible-capacity",
   "metadata": {},
   "outputs": [],
   "source": [
    "# Line, spanwise, 5, offset, wide\n",
    "exp3.experiment_6(train_model=True)"
   ]
  },
  {
   "cell_type": "code",
   "execution_count": null,
   "id": "detected-renewal",
   "metadata": {},
   "outputs": [],
   "source": [
    "# Line, streamwise, 5\n",
    "exp3.experiment_7(train_model=True)"
   ]
  },
  {
   "cell_type": "code",
   "execution_count": null,
   "id": "liable-player",
   "metadata": {},
   "outputs": [],
   "source": [
    "# Line, streamwise, 5, narrow\n",
    "exp3.experiment_8(train_model=True)"
   ]
  },
  {
   "cell_type": "code",
   "execution_count": null,
   "id": "indian-feelings",
   "metadata": {},
   "outputs": [],
   "source": [
    "# Line, streamwise, 5, wide\n",
    "exp3.experiment_9(train_model=True)"
   ]
  },
  {
   "cell_type": "code",
   "execution_count": null,
   "id": "indirect-circus",
   "metadata": {},
   "outputs": [],
   "source": [
    "# T, 5\n",
    "exp3.experiment_10(train_model=True)"
   ]
  },
  {
   "cell_type": "code",
   "execution_count": null,
   "id": "tutorial-description",
   "metadata": {},
   "outputs": [],
   "source": [
    "# T, 9, dense\n",
    "exp3.experiment_11(train_model=True)"
   ]
  },
  {
   "cell_type": "code",
   "execution_count": null,
   "id": "above-sapphire",
   "metadata": {},
   "outputs": [],
   "source": [
    "# T, 7, streamwise dense\n",
    "exp3.experiment_12(train_model=True)"
   ]
  },
  {
   "cell_type": "code",
   "execution_count": null,
   "id": "bigger-upgrade",
   "metadata": {},
   "outputs": [],
   "source": [
    "# T, 7, spanwise dense\n",
    "exp3.experiment_13(train_model=True)"
   ]
  },
  {
   "cell_type": "code",
   "execution_count": null,
   "id": "automatic-formation",
   "metadata": {},
   "outputs": [],
   "source": [
    "# Patch, 3x3\n",
    "exp3.experiment_14(train_model=True)"
   ]
  },
  {
   "cell_type": "code",
   "execution_count": null,
   "id": "attempted-hurricane",
   "metadata": {},
   "outputs": [],
   "source": [
    "# Patch, 4x4\n",
    "exp3.experiment_15(train_model=True)"
   ]
  },
  {
   "cell_type": "code",
   "execution_count": null,
   "id": "medieval-reference",
   "metadata": {},
   "outputs": [],
   "source": [
    "# Patch, 16x16\n",
    "exp3.experiment_16(train_model=True)"
   ]
  },
  {
   "cell_type": "code",
   "execution_count": null,
   "id": "posted-opportunity",
   "metadata": {},
   "outputs": [],
   "source": [
    "# Wall, equispaced placement, 15, dense\n",
    "exp3.experiment_17(train_model=True)"
   ]
  },
  {
   "cell_type": "code",
   "execution_count": null,
   "id": "focal-butter",
   "metadata": {},
   "outputs": [],
   "source": [
    "# Line, spanwise, 15, dense\n",
    "exp3.experiment_18(train_model=True)"
   ]
  },
  {
   "cell_type": "code",
   "execution_count": null,
   "id": "surrounded-disability",
   "metadata": {},
   "outputs": [],
   "source": [
    "# Patch, full domain, 3x5\n",
    "exp3.experiment_19(train_model=True)"
   ]
  },
  {
   "cell_type": "code",
   "execution_count": null,
   "id": "active-model",
   "metadata": {},
   "outputs": [],
   "source": []
  }
 ],
 "metadata": {
  "kernelspec": {
   "display_name": "Python 3",
   "language": "python",
   "name": "python3"
  },
  "language_info": {
   "codemirror_mode": {
    "name": "ipython",
    "version": 3
   },
   "file_extension": ".py",
   "mimetype": "text/x-python",
   "name": "python",
   "nbconvert_exporter": "python",
   "pygments_lexer": "ipython3",
   "version": "3.7.9"
  }
 },
 "nbformat": 4,
 "nbformat_minor": 5
}
