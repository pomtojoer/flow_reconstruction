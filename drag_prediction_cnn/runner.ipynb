{
 "cells": [
  {
   "cell_type": "code",
   "execution_count": null,
   "id": "ethical-disabled",
   "metadata": {},
   "outputs": [],
   "source": [
    "%load_ext autoreload"
   ]
  },
  {
   "cell_type": "markdown",
   "id": "growing-disabled",
   "metadata": {},
   "source": [
    "# Drag Prediction - Dataset Augmentation\n",
    "---"
   ]
  },
  {
   "cell_type": "code",
   "execution_count": null,
   "id": "systematic-parks",
   "metadata": {},
   "outputs": [],
   "source": [
    "%autoreload 2\n",
    "from dataset_augmentation import experiments as exp1"
   ]
  },
  {
   "cell_type": "code",
   "execution_count": null,
   "id": "industrial-simulation",
   "metadata": {
    "scrolled": true
   },
   "outputs": [],
   "source": [
    "# Original dataset\n",
    "exp1.experiment_1(train_model=False)"
   ]
  },
  {
   "cell_type": "code",
   "execution_count": null,
   "id": "differential-bargain",
   "metadata": {},
   "outputs": [],
   "source": [
    "# Bezier 200 dataset\n",
    "exp1.experiment_2(train_model=True)"
   ]
  },
  {
   "cell_type": "code",
   "execution_count": null,
   "id": "accurate-syndicate",
   "metadata": {},
   "outputs": [],
   "source": [
    "# Bezier 200 dataset flipped\n",
    "exp1.experiment_3(train_model=True)"
   ]
  },
  {
   "cell_type": "code",
   "execution_count": null,
   "id": "hungry-canadian",
   "metadata": {},
   "outputs": [],
   "source": [
    "# Bezier 200 dataset flipped with SDF\n",
    "exp1.experiment_4(train_model=True)"
   ]
  },
  {
   "cell_type": "code",
   "execution_count": null,
   "id": "utility-persian",
   "metadata": {},
   "outputs": [],
   "source": []
  },
  {
   "cell_type": "code",
   "execution_count": null,
   "id": "disturbed-complex",
   "metadata": {},
   "outputs": [],
   "source": []
  }
 ],
 "metadata": {
  "kernelspec": {
   "display_name": "Python 3",
   "language": "python",
   "name": "python3"
  },
  "language_info": {
   "codemirror_mode": {
    "name": "ipython",
    "version": 3
   },
   "file_extension": ".py",
   "mimetype": "text/x-python",
   "name": "python",
   "nbconvert_exporter": "python",
   "pygments_lexer": "ipython3",
   "version": "3.7.9"
  }
 },
 "nbformat": 4,
 "nbformat_minor": 5
}
