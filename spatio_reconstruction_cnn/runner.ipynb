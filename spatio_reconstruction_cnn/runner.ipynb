{
 "cells": [
  {
   "cell_type": "code",
   "execution_count": null,
   "id": "ethical-disabled",
   "metadata": {},
   "outputs": [],
   "source": [
    "%load_ext autoreload"
   ]
  },
  {
   "cell_type": "code",
   "execution_count": null,
   "id": "drawn-practice",
   "metadata": {
    "scrolled": true
   },
   "outputs": [],
   "source": [
    "%autoreload 2\n",
    "from data_scaling import experiments as exp1\n",
    "from resolution_reduction import experiments as exp2\n",
    "from resolution_reduction_expanded_domain import experiments as exp3\n",
    "from resolution_reduction_expanded_dataset import experiments as exp4\n",
    "from model_comparison import experiments as exp5\n",
    "from utils import *"
   ]
  },
  {
   "cell_type": "markdown",
   "id": "norman-performance",
   "metadata": {},
   "source": [
    "# Data Scaling\n",
    "---"
   ]
  },
  {
   "cell_type": "code",
   "execution_count": null,
   "id": "forward-isolation",
   "metadata": {
    "scrolled": true
   },
   "outputs": [],
   "source": [
    "# No data scaling\n",
    "exp1.experiment_1(train_model=True)"
   ]
  },
  {
   "cell_type": "code",
   "execution_count": null,
   "id": "vital-width",
   "metadata": {},
   "outputs": [],
   "source": [
    "# Mean centring\n",
    "exp1.experiment_2(train_model=True)"
   ]
  },
  {
   "cell_type": "markdown",
   "id": "swiss-affiliate",
   "metadata": {},
   "source": [
    "# Accuracy Limits (Resolution reduction)\n",
    "---"
   ]
  },
  {
   "cell_type": "code",
   "execution_count": null,
   "id": "developed-singapore",
   "metadata": {},
   "outputs": [],
   "source": [
    "# 1/1 Resolution reduction\n",
    "exp2.experiment_1(train_model=True)"
   ]
  },
  {
   "cell_type": "code",
   "execution_count": null,
   "id": "binding-tyler",
   "metadata": {},
   "outputs": [],
   "source": [
    "# 1/2 Resolution reduction\n",
    "exp2.experiment_2(train_model=True)"
   ]
  },
  {
   "cell_type": "code",
   "execution_count": null,
   "id": "fundamental-triple",
   "metadata": {},
   "outputs": [],
   "source": [
    "# 1/4 Resolution reduction\n",
    "exp2.experiment_3(train_model=True)"
   ]
  },
  {
   "cell_type": "code",
   "execution_count": null,
   "id": "parallel-mapping",
   "metadata": {},
   "outputs": [],
   "source": [
    "# 1/8 Resolution reduction\n",
    "exp2.experiment_4(train_model=True)"
   ]
  },
  {
   "cell_type": "code",
   "execution_count": null,
   "id": "legitimate-dairy",
   "metadata": {},
   "outputs": [],
   "source": [
    "# 1/16 Resolution reduction\n",
    "exp2.experiment_5(train_model=True)"
   ]
  },
  {
   "cell_type": "code",
   "execution_count": null,
   "id": "minute-clothing",
   "metadata": {},
   "outputs": [],
   "source": [
    "# 1/32 Resolution reduction\n",
    "exp2.experiment_6(train_model=True)"
   ]
  },
  {
   "cell_type": "markdown",
   "id": "municipal-modem",
   "metadata": {},
   "source": [
    "# Expanding domain\n",
    "---"
   ]
  },
  {
   "cell_type": "code",
   "execution_count": null,
   "id": "western-difficulty",
   "metadata": {},
   "outputs": [],
   "source": [
    "# 1/1 Resolution reduction\n",
    "exp3.experiment_1(train_model=True)"
   ]
  },
  {
   "cell_type": "code",
   "execution_count": null,
   "id": "bridal-breed",
   "metadata": {},
   "outputs": [],
   "source": [
    "# 1/2 Resolution reduction\n",
    "exp3.experiment_2(train_model=True)"
   ]
  },
  {
   "cell_type": "code",
   "execution_count": null,
   "id": "considerable-usage",
   "metadata": {},
   "outputs": [],
   "source": [
    "# 1/4 Resolution reduction\n",
    "exp3.experiment_3(train_model=True)"
   ]
  },
  {
   "cell_type": "code",
   "execution_count": null,
   "id": "coral-surveillance",
   "metadata": {},
   "outputs": [],
   "source": [
    "# 1/8 Resolution reduction\n",
    "exp3.experiment_4(train_model=True)"
   ]
  },
  {
   "cell_type": "code",
   "execution_count": null,
   "id": "previous-baker",
   "metadata": {},
   "outputs": [],
   "source": [
    "# 1/16 Resolution reduction\n",
    "exp3.experiment_5(train_model=True)"
   ]
  },
  {
   "cell_type": "code",
   "execution_count": null,
   "id": "nasty-runner",
   "metadata": {},
   "outputs": [],
   "source": [
    "# 1/32 Resolution reduction\n",
    "exp3.experiment_6(train_model=True)"
   ]
  },
  {
   "cell_type": "markdown",
   "id": "undefined-lindsay",
   "metadata": {},
   "source": [
    "# Expanding dataset\n",
    "---"
   ]
  },
  {
   "cell_type": "code",
   "execution_count": null,
   "id": "seven-horror",
   "metadata": {},
   "outputs": [],
   "source": [
    "# 1/1 Resolution reduction\n",
    "exp4.experiment_1(train_model=True)"
   ]
  },
  {
   "cell_type": "code",
   "execution_count": null,
   "id": "brief-effort",
   "metadata": {},
   "outputs": [],
   "source": [
    "# 1/2 Resolution reduction\n",
    "exp4.experiment_2(train_model=True)"
   ]
  },
  {
   "cell_type": "code",
   "execution_count": null,
   "id": "median-logic",
   "metadata": {},
   "outputs": [],
   "source": [
    "# 1/4 Resolution reduction\n",
    "exp4.experiment_3(train_model=True)"
   ]
  },
  {
   "cell_type": "code",
   "execution_count": null,
   "id": "prepared-anniversary",
   "metadata": {},
   "outputs": [],
   "source": [
    "# 1/8 Resolution reduction\n",
    "exp4.experiment_4(train_model=True)"
   ]
  },
  {
   "cell_type": "code",
   "execution_count": null,
   "id": "thousand-convention",
   "metadata": {},
   "outputs": [],
   "source": [
    "# 1/16 Resolution reduction\n",
    "exp4.experiment_5(train_model=True)"
   ]
  },
  {
   "cell_type": "code",
   "execution_count": null,
   "id": "greater-payment",
   "metadata": {},
   "outputs": [],
   "source": [
    "# 1/32 Resolution reduction\n",
    "exp4.experiment_6(train_model=True)"
   ]
  },
  {
   "cell_type": "markdown",
   "id": "equivalent-carroll",
   "metadata": {},
   "source": [
    "# Model Comparison\n",
    "---\n",
    "### baseline models"
   ]
  },
  {
   "cell_type": "code",
   "execution_count": null,
   "id": "criminal-delta",
   "metadata": {},
   "outputs": [],
   "source": [
    "# Interpolation: bicubic\n",
    "exp5.experiment_1(train_model=True)"
   ]
  },
  {
   "cell_type": "code",
   "execution_count": null,
   "id": "violent-three",
   "metadata": {},
   "outputs": [],
   "source": [
    "# Interpolation: bilinear\n",
    "exp5.experiment_2(train_model=True)"
   ]
  },
  {
   "cell_type": "code",
   "execution_count": null,
   "id": "adequate-theology",
   "metadata": {},
   "outputs": [],
   "source": [
    "# Interpolation: lanczos3\n",
    "exp5.experiment_3(train_model=True)"
   ]
  },
  {
   "cell_type": "code",
   "execution_count": null,
   "id": "fourth-russell",
   "metadata": {},
   "outputs": [],
   "source": [
    "# Interpolation: lanczos5\n",
    "exp5.experiment_4(train_model=True)"
   ]
  },
  {
   "cell_type": "code",
   "execution_count": null,
   "id": "happy-receipt",
   "metadata": {},
   "outputs": [],
   "source": [
    "# Interpolation: gaussian\n",
    "# note: gaussian more suited for temporal reconstruction than spatial\n",
    "exp5.experiment_5(train_model=True)"
   ]
  },
  {
   "cell_type": "code",
   "execution_count": null,
   "id": "aggregate-promise",
   "metadata": {},
   "outputs": [],
   "source": [
    "# Interpolation: nearest\n",
    "exp5.experiment_6(train_model=True)"
   ]
  },
  {
   "cell_type": "code",
   "execution_count": null,
   "id": "afraid-chrome",
   "metadata": {},
   "outputs": [],
   "source": [
    "# CNN: srcnn\n",
    "exp5.experiment_7(train_model=True)"
   ]
  },
  {
   "cell_type": "code",
   "execution_count": null,
   "id": "familiar-athens",
   "metadata": {},
   "outputs": [],
   "source": [
    "# CNN: scnn\n",
    "exp5.experiment_8(train_model=True)"
   ]
  },
  {
   "cell_type": "code",
   "execution_count": null,
   "id": "failing-woman",
   "metadata": {},
   "outputs": [],
   "source": [
    "# CNN: dsc/ms\n",
    "exp5.experiment_9(train_model=True)"
   ]
  },
  {
   "cell_type": "markdown",
   "id": "dense-trademark",
   "metadata": {},
   "source": [
    "### model modifications"
   ]
  },
  {
   "cell_type": "code",
   "execution_count": null,
   "id": "boxed-feeding",
   "metadata": {},
   "outputs": [],
   "source": [
    "# CNN: dsc/ms - bicubic preprocessing layer\n",
    "exp5.experiment_10(train_model=True)"
   ]
  },
  {
   "cell_type": "code",
   "execution_count": null,
   "id": "unknown-sleeping",
   "metadata": {},
   "outputs": [],
   "source": [
    "# CNN: scnn - VGG modification\n",
    "exp5.experiment_11(train_model=True)"
   ]
  },
  {
   "cell_type": "code",
   "execution_count": null,
   "id": "international-newport",
   "metadata": {},
   "outputs": [],
   "source": [
    "# CNN: dsc/ms - VGG modification\n",
    "exp5.experiment_12(train_model=True)"
   ]
  },
  {
   "cell_type": "code",
   "execution_count": null,
   "id": "administrative-agreement",
   "metadata": {},
   "outputs": [],
   "source": [
    "# CNN: scnn - skip connections\n",
    "exp5.experiment_13(train_model=True)"
   ]
  },
  {
   "cell_type": "code",
   "execution_count": null,
   "id": "stupid-couple",
   "metadata": {},
   "outputs": [],
   "source": [
    "# CNN: scnn - custom loss (sum squared error)\n",
    "exp5.experiment_14(train_model=True)"
   ]
  },
  {
   "cell_type": "code",
   "execution_count": null,
   "id": "immediate-tenant",
   "metadata": {},
   "outputs": [],
   "source": [
    "# CNN: dsc/ms - custom loss (sum squared error)\n",
    "exp5.experiment_15(train_model=True)"
   ]
  },
  {
   "cell_type": "markdown",
   "id": "decimal-torture",
   "metadata": {},
   "source": [
    "### SCNN accuracy & expanded dataset"
   ]
  },
  {
   "cell_type": "code",
   "execution_count": null,
   "id": "talented-quarter",
   "metadata": {},
   "outputs": [],
   "source": [
    "# CNN: scnn - 1/32 resolution reduction, cylinder\n",
    "exp5.experiment_16(train_model=True)"
   ]
  },
  {
   "cell_type": "code",
   "execution_count": null,
   "id": "aerial-mouse",
   "metadata": {},
   "outputs": [],
   "source": [
    "# CNN: scnn - 1/32 resolution reduction, primitives\n",
    "exp5.experiment_17(train_model=True)"
   ]
  },
  {
   "cell_type": "code",
   "execution_count": null,
   "id": "enhanced-citation",
   "metadata": {},
   "outputs": [],
   "source": [
    "# CNN: scnn - 1/8 resolution reduction, primitives\n",
    "exp5.experiment_18(train_model=True)"
   ]
  }
 ],
 "metadata": {
  "kernelspec": {
   "display_name": "Python 3",
   "language": "python",
   "name": "python3"
  },
  "language_info": {
   "codemirror_mode": {
    "name": "ipython",
    "version": 3
   },
   "file_extension": ".py",
   "mimetype": "text/x-python",
   "name": "python",
   "nbconvert_exporter": "python",
   "pygments_lexer": "ipython3",
   "version": "3.7.9"
  }
 },
 "nbformat": 4,
 "nbformat_minor": 5
}
